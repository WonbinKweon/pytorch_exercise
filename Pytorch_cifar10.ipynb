{
 "cells": [
  {
   "cell_type": "code",
   "execution_count": 1,
   "metadata": {},
   "outputs": [],
   "source": [
    "import os\n",
    "import torch\n",
    "import torch.nn as nn\n",
    "from torch.autograd import Variable\n",
    "import torchvision.datasets as dset\n",
    "import torchvision.transforms as transforms\n",
    "import torch.nn.functional as F\n",
    "import torch.optim as optim"
   ]
  },
  {
   "cell_type": "markdown",
   "metadata": {},
   "source": [
    "# data prepare"
   ]
  },
  {
   "cell_type": "code",
   "execution_count": 2,
   "metadata": {},
   "outputs": [],
   "source": [
    "use_cuda = torch.cuda.is_available()\n",
    "\n",
    "root = './data'\n",
    "if not os.path.exists(root):\n",
    "    os.mkdir(root)\n",
    "\n",
    "#trans = transforms.Compose([transforms.RandomCrop(32, padding=4),\n",
    "#                transforms.RandomHorizontalFlip(), transforms.ToTensor(),\n",
    "#                transforms.Normalize(mean=[0.491, 0.482, 0.447], std=[0.247, 0.243, 0.262])])\n",
    "trans = transforms.Compose([transforms.ToTensor()])\n",
    "\n",
    "# if not exist, download mnist dataset\n",
    "train_set = dset.CIFAR10(root=root, train=True, transform=trans, download=False)\n",
    "test_set = dset.CIFAR10(root=root, train=False, transform=trans, download=False)"
   ]
  },
  {
   "cell_type": "code",
   "execution_count": 3,
   "metadata": {},
   "outputs": [
    {
     "name": "stdout",
     "output_type": "stream",
     "text": [
      "==>>> total trainning batch number: 391\n",
      "==>>> total testing batch number: 79\n"
     ]
    }
   ],
   "source": [
    "batch_size = 128\n",
    "\n",
    "train_loader = torch.utils.data.DataLoader(\n",
    "                 dataset=train_set,\n",
    "                 batch_size=batch_size,\n",
    "                 shuffle=True)\n",
    "test_loader = torch.utils.data.DataLoader(\n",
    "                dataset=test_set,\n",
    "                batch_size=batch_size,\n",
    "                shuffle=False)\n",
    "\n",
    "print('==>>> total trainning batch number: {}'.format(len(train_loader)))\n",
    "print('==>>> total testing batch number: {}'.format(len(test_loader)))"
   ]
  },
  {
   "cell_type": "code",
   "execution_count": null,
   "metadata": {},
   "outputs": [],
   "source": [
    "inputs, _ = next(iter(train_loader))\n",
    "img = inputs[4]\n",
    "img = img.permute(1,2,0)\n",
    "\n",
    "import matplotlib.pyplot as plt\n",
    "plt.imshow(img, interpolation='nearest')"
   ]
  },
  {
   "cell_type": "markdown",
   "metadata": {},
   "source": [
    "# MODEL"
   ]
  },
  {
   "cell_type": "code",
   "execution_count": 7,
   "metadata": {},
   "outputs": [],
   "source": [
    "class MLPNet(nn.Module):\n",
    "    def __init__(self):\n",
    "        super(MLPNet, self).__init__()\n",
    "        self.fc1 = nn.Linear(32*32*3, 500)\n",
    "        self.fc2 = nn.Linear(500, 256)\n",
    "        self.fc3 = nn.Linear(256, 10)\n",
    "        \n",
    "    def forward(self, x):\n",
    "        x = x.view(-1, 32*32*3) #flat시키기\n",
    "        x = F.relu(self.fc1(x))\n",
    "        x = F.relu(self.fc2(x))\n",
    "        x = self.fc3(x)\n",
    "        return x\n",
    "    \n",
    "    def name(self):\n",
    "        return \"MLP\"\n",
    "\n",
    "    \n",
    "class LeNet(nn.Module):\n",
    "    def __init__(self):\n",
    "        super(LeNet, self).__init__()\n",
    "        self.conv1 = nn.Conv2d(3, 20, 5)\n",
    "        self.conv2 = nn.Conv2d(20, 50, 5)\n",
    "        self.fc1 = nn.Linear(5*5*50, 500)\n",
    "        self.fc2 = nn.Linear(500, 10)\n",
    "\n",
    "    def forward(self, x):\n",
    "        x = F.relu(self.conv1(x))\n",
    "        x = F.max_pool2d(x, 2, 2)\n",
    "        x = F.relu(self.conv2(x))\n",
    "        x = F.max_pool2d(x, 2, 2)\n",
    "        x = x.view(-1, 5*5*50)\n",
    "        x = F.relu(self.fc1(x))\n",
    "        x = self.fc2(x)\n",
    "        return x\n",
    "    \n",
    "    def name(self):\n",
    "        return \"LeNet\""
   ]
  },
  {
   "cell_type": "markdown",
   "metadata": {},
   "source": [
    "# Training"
   ]
  },
  {
   "cell_type": "code",
   "execution_count": 9,
   "metadata": {},
   "outputs": [
    {
     "name": "stdout",
     "output_type": "stream",
     "text": [
      "==>>> epoch: 1, batch index: 100, train loss: 2.098930\n",
      "==>>> epoch: 1, batch index: 200, train loss: 1.985222\n",
      "==>>> epoch: 1, batch index: 300, train loss: 1.709409\n",
      "==>>> epoch: 1, batch index: 391, train loss: 1.655666\n",
      "==>>> epoch: 1, batch index: 79, test loss: 1.447818, acc: 0.399\n",
      "==>>> epoch: 2, batch index: 100, train loss: 1.614856\n",
      "==>>> epoch: 2, batch index: 200, train loss: 1.436003\n",
      "==>>> epoch: 2, batch index: 300, train loss: 1.353874\n",
      "==>>> epoch: 2, batch index: 391, train loss: 1.415918\n",
      "==>>> epoch: 2, batch index: 79, test loss: 1.115165, acc: 0.499\n",
      "==>>> epoch: 3, batch index: 100, train loss: 1.304854\n",
      "==>>> epoch: 3, batch index: 200, train loss: 1.253309\n",
      "==>>> epoch: 3, batch index: 300, train loss: 1.216772\n",
      "==>>> epoch: 3, batch index: 391, train loss: 1.166130\n",
      "==>>> epoch: 3, batch index: 79, test loss: 1.404466, acc: 0.548\n",
      "==>>> epoch: 4, batch index: 100, train loss: 1.117727\n",
      "==>>> epoch: 4, batch index: 200, train loss: 1.187654\n",
      "==>>> epoch: 4, batch index: 300, train loss: 1.044245\n",
      "==>>> epoch: 4, batch index: 391, train loss: 0.957410\n",
      "==>>> epoch: 4, batch index: 79, test loss: 1.048970, acc: 0.591\n",
      "==>>> epoch: 5, batch index: 100, train loss: 1.060231\n",
      "==>>> epoch: 5, batch index: 200, train loss: 0.935299\n",
      "==>>> epoch: 5, batch index: 300, train loss: 0.995365\n",
      "==>>> epoch: 5, batch index: 391, train loss: 1.064562\n",
      "==>>> epoch: 5, batch index: 79, test loss: 0.987965, acc: 0.617\n",
      "==>>> epoch: 6, batch index: 100, train loss: 1.045195\n",
      "==>>> epoch: 6, batch index: 200, train loss: 0.944252\n",
      "==>>> epoch: 6, batch index: 300, train loss: 1.044044\n",
      "==>>> epoch: 6, batch index: 391, train loss: 1.026635\n",
      "==>>> epoch: 6, batch index: 79, test loss: 1.078273, acc: 0.634\n",
      "==>>> epoch: 7, batch index: 100, train loss: 0.888284\n",
      "==>>> epoch: 7, batch index: 200, train loss: 0.825867\n",
      "==>>> epoch: 7, batch index: 300, train loss: 1.048805\n",
      "==>>> epoch: 7, batch index: 391, train loss: 0.826451\n",
      "==>>> epoch: 7, batch index: 79, test loss: 1.027144, acc: 0.643\n",
      "==>>> epoch: 8, batch index: 100, train loss: 0.606200\n",
      "==>>> epoch: 8, batch index: 200, train loss: 0.760595\n",
      "==>>> epoch: 8, batch index: 300, train loss: 1.000062\n",
      "==>>> epoch: 8, batch index: 391, train loss: 0.580957\n",
      "==>>> epoch: 8, batch index: 79, test loss: 1.026151, acc: 0.655\n",
      "==>>> epoch: 9, batch index: 100, train loss: 0.760620\n",
      "==>>> epoch: 9, batch index: 200, train loss: 0.773702\n",
      "==>>> epoch: 9, batch index: 300, train loss: 0.697418\n",
      "==>>> epoch: 9, batch index: 391, train loss: 0.734505\n",
      "==>>> epoch: 9, batch index: 79, test loss: 1.187768, acc: 0.669\n",
      "Finished!\n"
     ]
    }
   ],
   "source": [
    "model = LeNet()\n",
    "\n",
    "if use_cuda:\n",
    "    model = model.cuda()\n",
    "\n",
    "optimizer = optim.SGD(model.parameters(), lr=0.01, momentum=0.9)\n",
    "criterion = nn.CrossEntropyLoss()\n",
    "\n",
    "for epoch in range(1, 10):\n",
    "    # trainning\n",
    "    ave_loss = 0\n",
    "    for batch_idx, (x, target) in enumerate(train_loader):\n",
    "        optimizer.zero_grad()\n",
    "        if use_cuda:\n",
    "            x, target = x.cuda(), target.cuda()\n",
    "        x, target = Variable(x), Variable(target)\n",
    "        \n",
    "        out = model(x)\n",
    "        loss = criterion(out, target)\n",
    "        loss.backward()\n",
    "        optimizer.step()\n",
    "        if (batch_idx+1) % 100 == 0 or (batch_idx+1) == len(train_loader):\n",
    "            print('==>>> epoch: {}, batch index: {}, train loss: {:.6f}'.format(\n",
    "                epoch, batch_idx+1, loss.data))\n",
    "            \n",
    "    # testing\n",
    "    correct_cnt = 0\n",
    "    total_cnt= 0\n",
    "    for batch_idx, (x, target) in enumerate(test_loader):\n",
    "        with torch.no_grad():\n",
    "            if use_cuda:\n",
    "                x, target = x.cuda(), target.cuda()\n",
    "            x, target = Variable(x), Variable(target)\n",
    "            \n",
    "            out = model(x)\n",
    "            loss = criterion(out, target)\n",
    "            _, pred_label = torch.max(out.data, 1)\n",
    "            total_cnt = total_cnt + batch_size\n",
    "            count = torch.sum(pred_label == target.data)\n",
    "            \n",
    "            correct_cnt = correct_cnt + count.item()\n",
    "            if(batch_idx+1) % 100 == 0 or (batch_idx+1) == len(test_loader):\n",
    "                print('==>>> epoch: {}, batch index: {}, test loss: {:.6f}, acc: {:.3f}'.format(\n",
    "                    epoch, batch_idx+1, loss.data , correct_cnt * 1.0 / total_cnt))\n",
    "                \n",
    "print(\"Finished!\")"
   ]
  },
  {
   "cell_type": "code",
   "execution_count": null,
   "metadata": {},
   "outputs": [],
   "source": []
  }
 ],
 "metadata": {
  "kernelspec": {
   "display_name": "Python 3",
   "language": "python",
   "name": "python3"
  },
  "language_info": {
   "codemirror_mode": {
    "name": "ipython",
    "version": 3
   },
   "file_extension": ".py",
   "mimetype": "text/x-python",
   "name": "python",
   "nbconvert_exporter": "python",
   "pygments_lexer": "ipython3",
   "version": "3.7.1"
  }
 },
 "nbformat": 4,
 "nbformat_minor": 2
}
