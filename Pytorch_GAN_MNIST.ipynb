{
 "cells": [
  {
   "cell_type": "code",
   "execution_count": 2,
   "metadata": {},
   "outputs": [],
   "source": [
    "import os\n",
    "import torch\n",
    "import torch.nn as nn\n",
    "from torch.autograd import Variable\n",
    "import torchvision.datasets as dset\n",
    "import torchvision.transforms as transforms\n",
    "import torch.nn.functional as F\n",
    "import torch.optim as optim"
   ]
  },
  {
   "cell_type": "markdown",
   "metadata": {},
   "source": [
    "# data prepare"
   ]
  },
  {
   "cell_type": "code",
   "execution_count": 3,
   "metadata": {},
   "outputs": [],
   "source": [
    "use_cuda = torch.cuda.is_available()\n",
    "\n",
    "root = './data'\n",
    "if not os.path.exists(root):\n",
    "    os.mkdir(root)\n",
    "    \n",
    "trans = transforms.Compose([transforms.ToTensor(), transforms.Normalize(mean=(0.5, 0.5, 0.5), std=(0.5, 0.5, 0.5))])\n",
    "# if not exist, download mnist dataset\n",
    "train_set = dset.MNIST(root=root, train=True, transform=trans, download=True)\n",
    "test_set = dset.MNIST(root=root, train=False, transform=trans, download=True)"
   ]
  },
  {
   "cell_type": "code",
   "execution_count": 4,
   "metadata": {},
   "outputs": [
    {
     "name": "stdout",
     "output_type": "stream",
     "text": [
      "==>>> total trainning batch number: 469\n",
      "==>>> total testing batch number: 79\n"
     ]
    }
   ],
   "source": [
    "batch_size = 128\n",
    "\n",
    "train_loader = torch.utils.data.DataLoader(\n",
    "                 dataset=train_set,\n",
    "                 batch_size=batch_size,\n",
    "                 shuffle=True)\n",
    "test_loader = torch.utils.data.DataLoader(\n",
    "                dataset=test_set,\n",
    "                batch_size=batch_size,\n",
    "                shuffle=False)\n",
    "\n",
    "print('==>>> total trainning batch number: {}'.format(len(train_loader)))\n",
    "print('==>>> total testing batch number: {}'.format(len(test_loader)))"
   ]
  },
  {
   "cell_type": "code",
   "execution_count": 5,
   "metadata": {},
   "outputs": [
    {
     "data": {
      "text/plain": [
       "<matplotlib.image.AxesImage at 0x10e5545b710>"
      ]
     },
     "execution_count": 5,
     "metadata": {},
     "output_type": "execute_result"
    }
   ],
   "source": [
    "inputs, _ = next(iter(train_loader))\n",
    "img = inputs[4][0]\n",
    "\n",
    "import matplotlib.pyplot as plt\n",
    "plt.imshow(img, cmap='gray', interpolation='nearest')"
   ]
  },
  {
   "cell_type": "markdown",
   "metadata": {},
   "source": [
    "# MODEL"
   ]
  },
  {
   "cell_type": "code",
   "execution_count": 6,
   "metadata": {},
   "outputs": [],
   "source": [
    "class generator(nn.Module):\n",
    "\n",
    "    def __init__(self, input_size=100, output_size = 28*28):\n",
    "        super(generator, self).__init__()\n",
    "        self.fc1 = nn.Linear(input_size, 256)\n",
    "        self.fc2 = nn.Linear(256, 512)\n",
    "        self.fc3 = nn.Linear(512, 1024)\n",
    "        self.fc4 = nn.Linear(1024, output_size)\n",
    "\n",
    "    def forward(self, input):\n",
    "        x = F.leaky_relu(self.fc1(input), 0.2)\n",
    "        x = F.leaky_relu(self.fc2(x), 0.2)\n",
    "        x = F.leaky_relu(self.fc3(x), 0.2)\n",
    "        x = F.tanh(self.fc4(x))\n",
    "        return x\n",
    "\n",
    "    \n",
    "class discriminator(nn.Module):\n",
    "\n",
    "    def __init__(self, input_size=28*28, output_size=1):\n",
    "        super(discriminator, self).__init__()\n",
    "        self.fc1 = nn.Linear(input_size, 1024)\n",
    "        self.fc2 = nn.Linear(1024, 512)\n",
    "        self.fc3 = nn.Linear(512, 256)\n",
    "        self.fc4 = nn.Linear(256, output_size)\n",
    "\n",
    "    def forward(self, input):\n",
    "        x = F.leaky_relu(self.fc1(input), 0.2)\n",
    "        x = F.dropout(x, 0.3)\n",
    "        x = F.leaky_relu(self.fc2(x), 0.2)\n",
    "        x = F.dropout(x, 0.3)\n",
    "        x = F.leaky_relu(self.fc3(x), 0.2)\n",
    "        x = F.dropout(x, 0.3)\n",
    "        x = torch.sigmoid(self.fc4(x))\n",
    "        return x"
   ]
  },
  {
   "cell_type": "markdown",
   "metadata": {},
   "source": [
    "# Training"
   ]
  },
  {
   "cell_type": "code",
   "execution_count": 7,
   "metadata": {},
   "outputs": [
    {
     "name": "stderr",
     "output_type": "stream",
     "text": [
      "C:\\Users\\wonbin\\AppData\\Local\\Continuum\\anaconda3\\lib\\site-packages\\torch\\nn\\functional.py:1332: UserWarning: nn.functional.sigmoid is deprecated. Use torch.sigmoid instead.\n",
      "  warnings.warn(\"nn.functional.sigmoid is deprecated. Use torch.sigmoid instead.\")\n",
      "C:\\Users\\wonbin\\AppData\\Local\\Continuum\\anaconda3\\lib\\site-packages\\torch\\nn\\functional.py:2016: UserWarning: Using a target size (torch.Size([128])) that is different to the input size (torch.Size([128, 1])) is deprecated. Please ensure they have the same size.\n",
      "  \"Please ensure they have the same size.\".format(target.size(), input.size()))\n",
      "C:\\Users\\wonbin\\AppData\\Local\\Continuum\\anaconda3\\lib\\site-packages\\torch\\nn\\functional.py:1320: UserWarning: nn.functional.tanh is deprecated. Use torch.tanh instead.\n",
      "  warnings.warn(\"nn.functional.tanh is deprecated. Use torch.tanh instead.\")\n",
      "C:\\Users\\wonbin\\AppData\\Local\\Continuum\\anaconda3\\lib\\site-packages\\torch\\nn\\functional.py:2016: UserWarning: Using a target size (torch.Size([96])) that is different to the input size (torch.Size([96, 1])) is deprecated. Please ensure they have the same size.\n",
      "  \"Please ensure they have the same size.\".format(target.size(), input.size()))\n"
     ]
    },
    {
     "name": "stdout",
     "output_type": "stream",
     "text": [
      "==>>> epoch: 1, batch index: 469, D loss: 0.051605\n",
      "==>>> epoch: 1, batch index: 469, G loss: 7.615733\n",
      "==>>> epoch: 2, batch index: 469, D loss: 0.178058\n",
      "==>>> epoch: 2, batch index: 469, G loss: 14.843661\n",
      "==>>> epoch: 3, batch index: 469, D loss: 0.286561\n",
      "==>>> epoch: 3, batch index: 469, G loss: 3.779575\n",
      "==>>> epoch: 4, batch index: 469, D loss: 0.422563\n",
      "==>>> epoch: 4, batch index: 469, G loss: 3.221140\n",
      "==>>> epoch: 5, batch index: 469, D loss: 0.348860\n",
      "==>>> epoch: 5, batch index: 469, G loss: 4.446423\n",
      "==>>> epoch: 6, batch index: 469, D loss: 0.157613\n",
      "==>>> epoch: 6, batch index: 469, G loss: 5.257874\n",
      "==>>> epoch: 7, batch index: 469, D loss: 0.212265\n",
      "==>>> epoch: 7, batch index: 469, G loss: 5.563035\n",
      "==>>> epoch: 8, batch index: 469, D loss: 0.231228\n",
      "==>>> epoch: 8, batch index: 469, G loss: 5.570754\n",
      "==>>> epoch: 9, batch index: 469, D loss: 0.453322\n",
      "==>>> epoch: 9, batch index: 469, G loss: 3.045223\n",
      "==>>> epoch: 10, batch index: 469, D loss: 0.406285\n",
      "==>>> epoch: 10, batch index: 469, G loss: 3.409987\n",
      "==>>> epoch: 11, batch index: 469, D loss: 0.346217\n",
      "==>>> epoch: 11, batch index: 469, G loss: 3.628021\n",
      "==>>> epoch: 12, batch index: 469, D loss: 0.387219\n",
      "==>>> epoch: 12, batch index: 469, G loss: 3.679371\n",
      "==>>> epoch: 13, batch index: 469, D loss: 0.477047\n",
      "==>>> epoch: 13, batch index: 469, G loss: 3.463138\n",
      "==>>> epoch: 14, batch index: 469, D loss: 0.490979\n",
      "==>>> epoch: 14, batch index: 469, G loss: 2.803557\n",
      "==>>> epoch: 15, batch index: 469, D loss: 0.442269\n",
      "==>>> epoch: 15, batch index: 469, G loss: 2.504284\n",
      "==>>> epoch: 16, batch index: 469, D loss: 0.515611\n",
      "==>>> epoch: 16, batch index: 469, G loss: 2.428411\n",
      "==>>> epoch: 17, batch index: 469, D loss: 0.625804\n",
      "==>>> epoch: 17, batch index: 469, G loss: 2.791185\n",
      "==>>> epoch: 18, batch index: 469, D loss: 0.702252\n",
      "==>>> epoch: 18, batch index: 469, G loss: 2.210589\n",
      "==>>> epoch: 19, batch index: 469, D loss: 0.747996\n",
      "==>>> epoch: 19, batch index: 469, G loss: 2.296481\n",
      "==>>> epoch: 20, batch index: 469, D loss: 0.836792\n",
      "==>>> epoch: 20, batch index: 469, G loss: 1.597871\n",
      "==>>> epoch: 21, batch index: 469, D loss: 0.493419\n",
      "==>>> epoch: 21, batch index: 469, G loss: 2.505531\n",
      "==>>> epoch: 22, batch index: 469, D loss: 0.627343\n",
      "==>>> epoch: 22, batch index: 469, G loss: 2.659288\n",
      "==>>> epoch: 23, batch index: 469, D loss: 0.929476\n",
      "==>>> epoch: 23, batch index: 469, G loss: 1.669729\n",
      "==>>> epoch: 24, batch index: 469, D loss: 0.908492\n",
      "==>>> epoch: 24, batch index: 469, G loss: 1.717351\n",
      "==>>> epoch: 25, batch index: 469, D loss: 0.662086\n",
      "==>>> epoch: 25, batch index: 469, G loss: 2.200612\n",
      "==>>> epoch: 26, batch index: 469, D loss: 0.896689\n",
      "==>>> epoch: 26, batch index: 469, G loss: 1.924519\n",
      "==>>> epoch: 27, batch index: 469, D loss: 1.129578\n",
      "==>>> epoch: 27, batch index: 469, G loss: 1.666105\n",
      "==>>> epoch: 28, batch index: 469, D loss: 0.933115\n",
      "==>>> epoch: 28, batch index: 469, G loss: 1.777480\n",
      "==>>> epoch: 29, batch index: 469, D loss: 0.760109\n",
      "==>>> epoch: 29, batch index: 469, G loss: 1.751300\n",
      "==>>> epoch: 30, batch index: 469, D loss: 1.115083\n",
      "==>>> epoch: 30, batch index: 469, G loss: 2.118057\n",
      "==>>> epoch: 31, batch index: 469, D loss: 0.959829\n",
      "==>>> epoch: 31, batch index: 469, G loss: 1.470438\n",
      "==>>> epoch: 32, batch index: 469, D loss: 0.972519\n",
      "==>>> epoch: 32, batch index: 469, G loss: 1.570916\n",
      "==>>> epoch: 33, batch index: 469, D loss: 0.968259\n",
      "==>>> epoch: 33, batch index: 469, G loss: 1.622847\n",
      "==>>> epoch: 34, batch index: 469, D loss: 0.970070\n",
      "==>>> epoch: 34, batch index: 469, G loss: 1.311188\n",
      "==>>> epoch: 35, batch index: 469, D loss: 0.769598\n",
      "==>>> epoch: 35, batch index: 469, G loss: 2.455488\n",
      "==>>> epoch: 36, batch index: 469, D loss: 0.869810\n",
      "==>>> epoch: 36, batch index: 469, G loss: 1.986120\n",
      "==>>> epoch: 37, batch index: 469, D loss: 0.961761\n",
      "==>>> epoch: 37, batch index: 469, G loss: 1.183884\n",
      "==>>> epoch: 38, batch index: 469, D loss: 0.962495\n",
      "==>>> epoch: 38, batch index: 469, G loss: 1.277246\n",
      "==>>> epoch: 39, batch index: 469, D loss: 1.144285\n",
      "==>>> epoch: 39, batch index: 469, G loss: 1.233222\n",
      "==>>> epoch: 40, batch index: 469, D loss: 1.184504\n",
      "==>>> epoch: 40, batch index: 469, G loss: 1.784900\n",
      "==>>> epoch: 41, batch index: 469, D loss: 1.007985\n",
      "==>>> epoch: 41, batch index: 469, G loss: 1.339510\n",
      "==>>> epoch: 42, batch index: 469, D loss: 1.146342\n",
      "==>>> epoch: 42, batch index: 469, G loss: 1.300438\n",
      "==>>> epoch: 43, batch index: 469, D loss: 0.950256\n",
      "==>>> epoch: 43, batch index: 469, G loss: 1.435513\n",
      "==>>> epoch: 44, batch index: 469, D loss: 1.107785\n",
      "==>>> epoch: 44, batch index: 469, G loss: 1.020216\n",
      "==>>> epoch: 45, batch index: 469, D loss: 0.951682\n",
      "==>>> epoch: 45, batch index: 469, G loss: 1.383075\n",
      "==>>> epoch: 46, batch index: 469, D loss: 1.067963\n",
      "==>>> epoch: 46, batch index: 469, G loss: 1.479535\n",
      "==>>> epoch: 47, batch index: 469, D loss: 1.053170\n",
      "==>>> epoch: 47, batch index: 469, G loss: 1.175931\n",
      "==>>> epoch: 48, batch index: 469, D loss: 1.059622\n",
      "==>>> epoch: 48, batch index: 469, G loss: 1.354906\n",
      "==>>> epoch: 49, batch index: 469, D loss: 1.085969\n",
      "==>>> epoch: 49, batch index: 469, G loss: 1.141429\n",
      "==>>> epoch: 50, batch index: 469, D loss: 1.120956\n",
      "==>>> epoch: 50, batch index: 469, G loss: 1.313726\n",
      "==>>> epoch: 51, batch index: 469, D loss: 1.052111\n",
      "==>>> epoch: 51, batch index: 469, G loss: 1.214594\n",
      "==>>> epoch: 52, batch index: 469, D loss: 1.257087\n",
      "==>>> epoch: 52, batch index: 469, G loss: 1.441164\n",
      "==>>> epoch: 53, batch index: 469, D loss: 1.157299\n",
      "==>>> epoch: 53, batch index: 469, G loss: 1.158466\n",
      "==>>> epoch: 54, batch index: 469, D loss: 1.179410\n",
      "==>>> epoch: 54, batch index: 469, G loss: 0.889924\n",
      "==>>> epoch: 55, batch index: 469, D loss: 1.053662\n",
      "==>>> epoch: 55, batch index: 469, G loss: 1.157018\n",
      "==>>> epoch: 56, batch index: 469, D loss: 0.952868\n",
      "==>>> epoch: 56, batch index: 469, G loss: 1.018206\n",
      "==>>> epoch: 57, batch index: 469, D loss: 1.085190\n",
      "==>>> epoch: 57, batch index: 469, G loss: 1.104379\n",
      "==>>> epoch: 58, batch index: 469, D loss: 1.137471\n",
      "==>>> epoch: 58, batch index: 469, G loss: 1.129140\n",
      "==>>> epoch: 59, batch index: 469, D loss: 1.112376\n",
      "==>>> epoch: 59, batch index: 469, G loss: 1.282748\n",
      "==>>> epoch: 60, batch index: 469, D loss: 1.095861\n",
      "==>>> epoch: 60, batch index: 469, G loss: 1.215561\n",
      "==>>> epoch: 61, batch index: 469, D loss: 1.102676\n",
      "==>>> epoch: 61, batch index: 469, G loss: 1.372666\n",
      "==>>> epoch: 62, batch index: 469, D loss: 1.271443\n",
      "==>>> epoch: 62, batch index: 469, G loss: 1.047696\n",
      "==>>> epoch: 63, batch index: 469, D loss: 1.112785\n",
      "==>>> epoch: 63, batch index: 469, G loss: 1.075176\n",
      "==>>> epoch: 64, batch index: 469, D loss: 1.251527\n",
      "==>>> epoch: 64, batch index: 469, G loss: 1.319839\n",
      "==>>> epoch: 65, batch index: 469, D loss: 1.175238\n",
      "==>>> epoch: 65, batch index: 469, G loss: 1.012527\n",
      "==>>> epoch: 66, batch index: 469, D loss: 1.366887\n",
      "==>>> epoch: 66, batch index: 469, G loss: 1.132703\n",
      "==>>> epoch: 67, batch index: 469, D loss: 1.263393\n",
      "==>>> epoch: 67, batch index: 469, G loss: 1.078750\n",
      "==>>> epoch: 68, batch index: 469, D loss: 1.090433\n",
      "==>>> epoch: 68, batch index: 469, G loss: 1.102389\n",
      "==>>> epoch: 69, batch index: 469, D loss: 1.058208\n",
      "==>>> epoch: 69, batch index: 469, G loss: 1.057983\n",
      "==>>> epoch: 70, batch index: 469, D loss: 1.175314\n",
      "==>>> epoch: 70, batch index: 469, G loss: 1.132558\n",
      "==>>> epoch: 71, batch index: 469, D loss: 1.142350\n",
      "==>>> epoch: 71, batch index: 469, G loss: 1.121982\n",
      "==>>> epoch: 72, batch index: 469, D loss: 1.198193\n",
      "==>>> epoch: 72, batch index: 469, G loss: 1.046482\n",
      "==>>> epoch: 73, batch index: 469, D loss: 1.171184\n",
      "==>>> epoch: 73, batch index: 469, G loss: 1.088746\n",
      "==>>> epoch: 74, batch index: 469, D loss: 1.043064\n",
      "==>>> epoch: 74, batch index: 469, G loss: 1.268674\n",
      "==>>> epoch: 75, batch index: 469, D loss: 1.115674\n",
      "==>>> epoch: 75, batch index: 469, G loss: 0.949169\n",
      "==>>> epoch: 76, batch index: 469, D loss: 1.249060\n",
      "==>>> epoch: 76, batch index: 469, G loss: 1.087657\n",
      "==>>> epoch: 77, batch index: 469, D loss: 1.261882\n",
      "==>>> epoch: 77, batch index: 469, G loss: 0.887453\n",
      "==>>> epoch: 78, batch index: 469, D loss: 1.238056\n",
      "==>>> epoch: 78, batch index: 469, G loss: 1.098383\n",
      "==>>> epoch: 79, batch index: 469, D loss: 1.227665\n"
     ]
    },
    {
     "name": "stdout",
     "output_type": "stream",
     "text": [
      "==>>> epoch: 79, batch index: 469, G loss: 0.967399\n",
      "==>>> epoch: 80, batch index: 469, D loss: 1.130941\n",
      "==>>> epoch: 80, batch index: 469, G loss: 1.024894\n",
      "==>>> epoch: 81, batch index: 469, D loss: 1.235416\n",
      "==>>> epoch: 81, batch index: 469, G loss: 0.890073\n",
      "==>>> epoch: 82, batch index: 469, D loss: 1.186785\n",
      "==>>> epoch: 82, batch index: 469, G loss: 1.163166\n",
      "==>>> epoch: 83, batch index: 469, D loss: 1.175599\n",
      "==>>> epoch: 83, batch index: 469, G loss: 1.003780\n",
      "==>>> epoch: 84, batch index: 469, D loss: 1.256184\n",
      "==>>> epoch: 84, batch index: 469, G loss: 0.948153\n",
      "==>>> epoch: 85, batch index: 469, D loss: 1.192183\n",
      "==>>> epoch: 85, batch index: 469, G loss: 1.008269\n",
      "==>>> epoch: 86, batch index: 469, D loss: 1.262308\n",
      "==>>> epoch: 86, batch index: 469, G loss: 1.058756\n",
      "==>>> epoch: 87, batch index: 469, D loss: 1.452893\n",
      "==>>> epoch: 87, batch index: 469, G loss: 0.878629\n",
      "==>>> epoch: 88, batch index: 469, D loss: 1.069228\n",
      "==>>> epoch: 88, batch index: 469, G loss: 1.038922\n",
      "==>>> epoch: 89, batch index: 469, D loss: 1.264300\n",
      "==>>> epoch: 89, batch index: 469, G loss: 0.984571\n",
      "==>>> epoch: 90, batch index: 469, D loss: 1.098657\n",
      "==>>> epoch: 90, batch index: 469, G loss: 1.106477\n",
      "==>>> epoch: 91, batch index: 469, D loss: 1.173129\n",
      "==>>> epoch: 91, batch index: 469, G loss: 1.006550\n",
      "==>>> epoch: 92, batch index: 469, D loss: 1.187760\n",
      "==>>> epoch: 92, batch index: 469, G loss: 0.894571\n",
      "==>>> epoch: 93, batch index: 469, D loss: 1.223618\n",
      "==>>> epoch: 93, batch index: 469, G loss: 1.024339\n",
      "==>>> epoch: 94, batch index: 469, D loss: 1.209150\n",
      "==>>> epoch: 94, batch index: 469, G loss: 1.060854\n",
      "==>>> epoch: 95, batch index: 469, D loss: 1.173508\n",
      "==>>> epoch: 95, batch index: 469, G loss: 0.889076\n",
      "==>>> epoch: 96, batch index: 469, D loss: 1.201385\n",
      "==>>> epoch: 96, batch index: 469, G loss: 1.074947\n",
      "==>>> epoch: 97, batch index: 469, D loss: 1.218593\n",
      "==>>> epoch: 97, batch index: 469, G loss: 0.961764\n",
      "==>>> epoch: 98, batch index: 469, D loss: 1.312794\n",
      "==>>> epoch: 98, batch index: 469, G loss: 0.913946\n",
      "==>>> epoch: 99, batch index: 469, D loss: 1.313401\n",
      "==>>> epoch: 99, batch index: 469, G loss: 0.892424\n",
      "Finished! \n"
     ]
    }
   ],
   "source": [
    "G = generator()\n",
    "D = discriminator()\n",
    "\n",
    "if use_cuda:\n",
    "    G = G.cuda()\n",
    "    D = D.cuda()\n",
    "\n",
    "G_optimizer = optim.Adam(G.parameters(), lr=0.0002)\n",
    "D_optimizer = optim.Adam(D.parameters(), lr=0.0002)\n",
    "criterion = nn.BCELoss()\n",
    "\n",
    "for epoch in range(1, 60):\n",
    "    for batch_idx, (x_real, target) in enumerate(train_loader):\n",
    "        batch_size = x_real.size()[0]\n",
    "        \n",
    "        #train D ##################################################\n",
    "        D_optimizer.zero_grad()\n",
    "        x_real = x_real.view(-1, 28*28)\n",
    "        y_real = torch.ones(batch_size)\n",
    "        y_fake = torch.zeros(batch_size)\n",
    "\n",
    "        if use_cuda:\n",
    "            x_real = x_real.cuda()\n",
    "            y_real = y_real.cuda()\n",
    "            y_fake = y_fake.cuda()\n",
    "        x_real, y_real, y_fake = Variable(x_real), Variable(y_real), Variable(y_fake)\n",
    "        \n",
    "        result_D = D(x_real)\n",
    "        D_loss_real = criterion(result_D, y_real)\n",
    "        \n",
    "        z = torch.randn((batch_size, 100))\n",
    "        z = Variable(z.cuda())\n",
    "        x_fake = G(z)\n",
    "        result_D = D(x_fake)\n",
    "        D_loss_fake = criterion(result_D, y_fake)\n",
    "\n",
    "        D_loss = D_loss_real + D_loss_fake\n",
    "        D_loss.backward()\n",
    "        D_optimizer.step()\n",
    "        if ((batch_idx+1) == len(train_loader)):\n",
    "            print('==>>> epoch: {}, batch index: {}, D loss: {:.6f}'.format(\n",
    "                epoch, batch_idx+1, D_loss.data))\n",
    "        \n",
    "        #train G ##############################################\n",
    "        G_optimizer.zero_grad()\n",
    "        z = torch.randn((batch_size, 100))\n",
    "        y_fake = torch.ones(batch_size)\n",
    "        if use_cuda:\n",
    "            z = z.cuda()\n",
    "            y_fake = y_fake.cuda()\n",
    "        z, y_fake = Variable(z), Variable(y_fake)\n",
    "        \n",
    "        x_fake = G(z)\n",
    "        D_result = D(x_fake)\n",
    "        G_loss = criterion(D_result, y_fake)\n",
    "        G_loss.backward()\n",
    "        G_optimizer.step()\n",
    "        if ((batch_idx+1) == len(train_loader)):\n",
    "            print('==>>> epoch: {}, batch index: {}, G loss: {:.6f}'.format(\n",
    "                epoch, batch_idx+1, G_loss.data))\n",
    "            \n",
    "print(\"Finished! \")"
   ]
  },
  {
   "cell_type": "markdown",
   "metadata": {},
   "source": [
    "# Generated image"
   ]
  },
  {
   "cell_type": "code",
   "execution_count": 8,
   "metadata": {},
   "outputs": [
    {
     "data": {
      "image/png": "[encoded data removed]",
      "text/plain": [
       "<Figure size 432x288 with 1 Axes>"
      ]
     },
     "metadata": {
      "needs_background": "light"
     },
     "output_type": "display_data"
    },
    {
     "data": {
      "image/png": "[encoded data removed]",
      "text/plain": [
       "<Figure size 432x288 with 1 Axes>"
      ]
     },
     "metadata": {
      "needs_background": "light"
     },
     "output_type": "display_data"
    },
    {
     "data": {
      "image/png": "[encoded data removed]",
      "text/plain": [
       "<Figure size 432x288 with 1 Axes>"
      ]
     },
     "metadata": {
      "needs_background": "light"
     },
     "output_type": "display_data"
    },
    {
     "data": {
      "image/png": "[encoded data removed]",
      "text/plain": [
       "<Figure size 432x288 with 1 Axes>"
      ]
     },
     "metadata": {
      "needs_background": "light"
     },
     "output_type": "display_data"
    },
    {
     "data": {
      "image/png": "[encoded data removed]",
      "text/plain": [
       "<Figure size 432x288 with 1 Axes>"
      ]
     },
     "metadata": {
      "needs_background": "light"
     },
     "output_type": "display_data"
    },
    {
     "data": {
      "image/png": "[encoded data removed]",
      "text/plain": [
       "<Figure size 432x288 with 1 Axes>"
      ]
     },
     "metadata": {
      "needs_background": "light"
     },
     "output_type": "display_data"
    },
    {
     "data": {
      "image/png": "[encoded data removed]",
      "text/plain": [
       "<Figure size 432x288 with 1 Axes>"
      ]
     },
     "metadata": {
      "needs_background": "light"
     },
     "output_type": "display_data"
    },
    {
     "data": {
      "image/png": "[encoded data removed]",
      "text/plain": [
       "<Figure size 432x288 with 1 Axes>"
      ]
     },
     "metadata": {
      "needs_background": "light"
     },
     "output_type": "display_data"
    },
    {
     "data": {
      "image/png": "[encoded data removed]",
      "text/plain": [
       "<Figure size 432x288 with 1 Axes>"
      ]
     },
     "metadata": {
      "needs_background": "light"
     },
     "output_type": "display_data"
    }
   ],
   "source": [
    "z = (torch.randn((10, 100))).cuda()\n",
    "fake_img = G(z)\n",
    "\n",
    "import matplotlib.pyplot as plt\n",
    "for i in range(1, 10):\n",
    "    img = fake_img[i].cpu().detach().numpy()\n",
    "    img = img.reshape(28, 28)\n",
    "    plt.figure()\n",
    "    plt.imshow(img, cmap='gray', interpolation='nearest')"
   ]
  },
  {
   "cell_type": "code",
   "execution_count": null,
   "metadata": {},
   "outputs": [],
   "source": []
  }
 ],
 "metadata": {
  "kernelspec": {
   "display_name": "Python 3",
   "language": "python",
   "name": "python3"
  },
  "language_info": {
   "codemirror_mode": {
    "name": "ipython",
    "version": 3
   },
   "file_extension": ".py",
   "mimetype": "text/x-python",
   "name": "python",
   "nbconvert_exporter": "python",
   "pygments_lexer": "ipython3",
   "version": "3.7.1"
  }
 },
 "nbformat": 4,
 "nbformat_minor": 2
}
