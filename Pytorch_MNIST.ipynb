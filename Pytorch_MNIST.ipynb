{
 "cells": [
  {
   "cell_type": "code",
   "execution_count": 10,
   "metadata": {},
   "outputs": [],
   "source": [
    "import os\n",
    "import torch\n",
    "import torch.nn as nn\n",
    "from torch.autograd import Variable\n",
    "import torchvision.datasets as dset\n",
    "import torchvision.transforms as transforms\n",
    "import torch.nn.functional as F\n",
    "import torch.optim as optim"
   ]
  },
  {
   "cell_type": "markdown",
   "metadata": {},
   "source": [
    "# data prepare"
   ]
  },
  {
   "cell_type": "code",
   "execution_count": 2,
   "metadata": {},
   "outputs": [
    {
     "name": "stdout",
     "output_type": "stream",
     "text": [
      "Downloading http://yann.lecun.com/exdb/mnist/train-images-idx3-ubyte.gz\n",
      "Downloading http://yann.lecun.com/exdb/mnist/train-labels-idx1-ubyte.gz\n",
      "Downloading http://yann.lecun.com/exdb/mnist/t10k-images-idx3-ubyte.gz\n",
      "Downloading http://yann.lecun.com/exdb/mnist/t10k-labels-idx1-ubyte.gz\n",
      "Processing...\n",
      "Done!\n"
     ]
    }
   ],
   "source": [
    "use_cuda = torch.cuda.is_available()\n",
    "\n",
    "root = './data'\n",
    "if not os.path.exists(root):\n",
    "    os.mkdir(root)\n",
    "    \n",
    "trans = transforms.Compose([transforms.ToTensor(), transforms.Normalize((0.5,), (1.0,))])\n",
    "# if not exist, download mnist dataset\n",
    "train_set = dset.MNIST(root=root, train=True, transform=trans, download=True)\n",
    "test_set = dset.MNIST(root=root, train=False, transform=trans, download=True)"
   ]
  },
  {
   "cell_type": "code",
   "execution_count": 9,
   "metadata": {},
   "outputs": [
    {
     "name": "stdout",
     "output_type": "stream",
     "text": [
      "==>>> total trainning batch number: 600\n",
      "==>>> total testing batch number: 100\n"
     ]
    }
   ],
   "source": [
    "batch_size = 100\n",
    "\n",
    "train_loader = torch.utils.data.DataLoader(\n",
    "                 dataset=train_set,\n",
    "                 batch_size=batch_size,\n",
    "                 shuffle=True)\n",
    "test_loader = torch.utils.data.DataLoader(\n",
    "                dataset=test_set,\n",
    "                batch_size=batch_size,\n",
    "                shuffle=False)\n",
    "\n",
    "print('==>>> total trainning batch number: {}'.format(len(train_loader)))\n",
    "print('==>>> total testing batch number: {}'.format(len(test_loader)))"
   ]
  },
  {
   "cell_type": "code",
   "execution_count": 34,
   "metadata": {},
   "outputs": [
    {
     "data": {
      "text/plain": [
       "<matplotlib.image.AxesImage at 0x25e7befb0b8>"
      ]
     },
     "execution_count": 34,
     "metadata": {},
     "output_type": "execute_result"
    },
    {
     "data": {
      "image/png": "[encoded data removed]",
      "text/plain": [
       "<Figure size 432x288 with 1 Axes>"
      ]
     },
     "metadata": {
      "needs_background": "light"
     },
     "output_type": "display_data"
    }
   ],
   "source": [
    "inputs, _ = next(iter(train_loader))\n",
    "img = inputs[4][0]\n",
    "\n",
    "import matplotlib.pyplot as plt\n",
    "plt.imshow(img, cmap='gray', interpolation='nearest')"
   ]
  },
  {
   "cell_type": "markdown",
   "metadata": {},
   "source": [
    "# MODEL"
   ]
  },
  {
   "cell_type": "code",
   "execution_count": 11,
   "metadata": {},
   "outputs": [],
   "source": [
    "class MLPNet(nn.Module):\n",
    "    def __init__(self):\n",
    "        super(MLPNet, self).__init__()\n",
    "        self.fc1 = nn.Linear(28*28, 500)\n",
    "        self.fc2 = nn.Linear(500, 256)\n",
    "        self.fc3 = nn.Linear(256, 10)\n",
    "        \n",
    "    def forward(self, x):\n",
    "        x = x.view(-1, 28*28) #flat시키기\n",
    "        x = F.relu(self.fc1(x))\n",
    "        x = F.relu(self.fc2(x))\n",
    "        x = self.fc3(x)\n",
    "        return x\n",
    "    \n",
    "    def name(self):\n",
    "        return \"MLP\"\n",
    "\n",
    "    \n",
    "class LeNet(nn.Module):\n",
    "    def __init__(self):\n",
    "        super(LeNet, self).__init__()\n",
    "        self.conv1 = nn.Conv2d(1, 20, 5, 1)\n",
    "        self.conv2 = nn.Conv2d(20, 50, 5, 1)\n",
    "        self.fc1 = nn.Linear(4*4*50, 500)\n",
    "        self.fc2 = nn.Linear(500, 10)\n",
    "\n",
    "    def forward(self, x):\n",
    "        x = F.relu(self.conv1(x))\n",
    "        x = F.max_pool2d(x, 2, 2)\n",
    "        x = F.relu(self.conv2(x))\n",
    "        x = F.max_pool2d(x, 2, 2)\n",
    "        x = x.view(-1, 4*4*50)\n",
    "        x = F.relu(self.fc1(x))\n",
    "        x = self.fc2(x)\n",
    "        return x\n",
    "    \n",
    "    def name(self):\n",
    "        return \"LeNet\""
   ]
  },
  {
   "cell_type": "markdown",
   "metadata": {},
   "source": [
    "# Training"
   ]
  },
  {
   "cell_type": "code",
   "execution_count": 61,
   "metadata": {},
   "outputs": [
    {
     "name": "stdout",
     "output_type": "stream",
     "text": [
      "==>>> epoch: 1, batch index: 100, train loss: 0.891320\n",
      "==>>> epoch: 1, batch index: 200, train loss: 0.446379\n",
      "==>>> epoch: 1, batch index: 300, train loss: 0.244804\n",
      "==>>> epoch: 1, batch index: 400, train loss: 0.372875\n",
      "==>>> epoch: 1, batch index: 500, train loss: 0.355076\n",
      "==>>> epoch: 1, batch index: 600, train loss: 0.414167\n",
      "88\n",
      "==>>> epoch: 1, batch index: 100, test loss: 0.436909, acc: 0.917\n",
      "==>>> epoch: 2, batch index: 100, train loss: 0.326387\n",
      "==>>> epoch: 2, batch index: 200, train loss: 0.343088\n",
      "==>>> epoch: 2, batch index: 300, train loss: 0.222809\n",
      "==>>> epoch: 2, batch index: 400, train loss: 0.426197\n",
      "==>>> epoch: 2, batch index: 500, train loss: 0.238889\n",
      "==>>> epoch: 2, batch index: 600, train loss: 0.089522\n",
      "94\n",
      "==>>> epoch: 2, batch index: 100, test loss: 0.304139, acc: 0.943\n",
      "==>>> epoch: 3, batch index: 100, train loss: 0.139597\n",
      "==>>> epoch: 3, batch index: 200, train loss: 0.183021\n",
      "==>>> epoch: 3, batch index: 300, train loss: 0.115531\n",
      "==>>> epoch: 3, batch index: 400, train loss: 0.118993\n",
      "==>>> epoch: 3, batch index: 500, train loss: 0.101719\n",
      "==>>> epoch: 3, batch index: 600, train loss: 0.145903\n",
      "96\n",
      "==>>> epoch: 3, batch index: 100, test loss: 0.215764, acc: 0.954\n",
      "==>>> epoch: 4, batch index: 100, train loss: 0.107065\n",
      "==>>> epoch: 4, batch index: 200, train loss: 0.137983\n",
      "==>>> epoch: 4, batch index: 300, train loss: 0.163487\n",
      "==>>> epoch: 4, batch index: 400, train loss: 0.273706\n",
      "==>>> epoch: 4, batch index: 500, train loss: 0.079024\n",
      "==>>> epoch: 4, batch index: 600, train loss: 0.137143\n",
      "95\n",
      "==>>> epoch: 4, batch index: 100, test loss: 0.226143, acc: 0.960\n",
      "==>>> epoch: 5, batch index: 100, train loss: 0.046119\n",
      "==>>> epoch: 5, batch index: 200, train loss: 0.181745\n",
      "==>>> epoch: 5, batch index: 300, train loss: 0.098334\n",
      "==>>> epoch: 5, batch index: 400, train loss: 0.137267\n",
      "==>>> epoch: 5, batch index: 500, train loss: 0.137357\n",
      "==>>> epoch: 5, batch index: 600, train loss: 0.191776\n",
      "97\n",
      "==>>> epoch: 5, batch index: 100, test loss: 0.120645, acc: 0.965\n",
      "==>>> epoch: 6, batch index: 100, train loss: 0.048300\n",
      "==>>> epoch: 6, batch index: 200, train loss: 0.147021\n",
      "==>>> epoch: 6, batch index: 300, train loss: 0.100697\n",
      "==>>> epoch: 6, batch index: 400, train loss: 0.228911\n",
      "==>>> epoch: 6, batch index: 500, train loss: 0.089960\n",
      "==>>> epoch: 6, batch index: 600, train loss: 0.114638\n",
      "97\n",
      "==>>> epoch: 6, batch index: 100, test loss: 0.104169, acc: 0.969\n",
      "==>>> epoch: 7, batch index: 100, train loss: 0.039617\n",
      "==>>> epoch: 7, batch index: 200, train loss: 0.069120\n",
      "==>>> epoch: 7, batch index: 300, train loss: 0.112372\n",
      "==>>> epoch: 7, batch index: 400, train loss: 0.101372\n",
      "==>>> epoch: 7, batch index: 500, train loss: 0.052998\n",
      "==>>> epoch: 7, batch index: 600, train loss: 0.082534\n",
      "96\n",
      "==>>> epoch: 7, batch index: 100, test loss: 0.104182, acc: 0.972\n",
      "==>>> epoch: 8, batch index: 100, train loss: 0.091161\n",
      "==>>> epoch: 8, batch index: 200, train loss: 0.035446\n",
      "==>>> epoch: 8, batch index: 300, train loss: 0.032781\n",
      "==>>> epoch: 8, batch index: 400, train loss: 0.059911\n",
      "==>>> epoch: 8, batch index: 500, train loss: 0.059284\n",
      "==>>> epoch: 8, batch index: 600, train loss: 0.043011\n",
      "99\n",
      "==>>> epoch: 8, batch index: 100, test loss: 0.059160, acc: 0.971\n",
      "==>>> epoch: 9, batch index: 100, train loss: 0.061693\n",
      "==>>> epoch: 9, batch index: 200, train loss: 0.054940\n",
      "==>>> epoch: 9, batch index: 300, train loss: 0.079415\n",
      "==>>> epoch: 9, batch index: 400, train loss: 0.045677\n",
      "==>>> epoch: 9, batch index: 500, train loss: 0.123261\n",
      "==>>> epoch: 9, batch index: 600, train loss: 0.071829\n",
      "99\n",
      "==>>> epoch: 9, batch index: 100, test loss: 0.046393, acc: 0.975\n"
     ]
    }
   ],
   "source": [
    "model = MLPNet()\n",
    "\n",
    "if use_cuda:\n",
    "    model = model.cuda()\n",
    "\n",
    "optimizer = optim.SGD(model.parameters(), lr=0.01, momentum=0.9)\n",
    "criterion = nn.CrossEntropyLoss()\n",
    "\n",
    "for epoch in range(1, 10):\n",
    "    # trainning\n",
    "    ave_loss = 0\n",
    "    for batch_idx, (x, target) in enumerate(train_loader):\n",
    "        optimizer.zero_grad()\n",
    "        if use_cuda:\n",
    "            x, target = x.cuda(), target.cuda()\n",
    "        x, target = Variable(x), Variable(target)\n",
    "        \n",
    "        out = model(x)\n",
    "        loss = criterion(out, target)\n",
    "        loss.backward()\n",
    "        optimizer.step()\n",
    "        if (batch_idx+1) % 100 == 0 or (batch_idx+1) == len(train_loader):\n",
    "            print('==>>> epoch: {}, batch index: {}, train loss: {:.6f}'.format(\n",
    "                epoch, batch_idx+1, loss,data))\n",
    "            \n",
    "    # testing\n",
    "    correct_cnt = 0\n",
    "    total_cnt= 0\n",
    "    for batch_idx, (x, target) in enumerate(test_loader):\n",
    "        with torch.no_grad():\n",
    "            if use_cuda:\n",
    "                x, target = x.cuda(), target.cuda()\n",
    "            x, target = Variable(x), Variable(target)\n",
    "            \n",
    "            out = model(x)\n",
    "            loss = criterion(out, target)\n",
    "            _, pred_label = torch.max(out.data, 1)\n",
    "            total_cnt = total_cnt + batch_size\n",
    "            count = torch.sum(pred_label == target.data)\n",
    "            \n",
    "            correct_cnt = correct_cnt + count.item()\n",
    "            if(batch_idx+1) % 100 == 0 or (batch_idx+1) == len(test_loader):\n",
    "                print('==>>> epoch: {}, batch index: {}, test loss: {:.6f}, acc: {:.3f}'.format(\n",
    "                    epoch, batch_idx+1, loss.data , correct_cnt * 1.0 / total_cnt))"
   ]
  },
  {
   "cell_type": "code",
   "execution_count": null,
   "metadata": {},
   "outputs": [],
   "source": []
  }
 ],
 "metadata": {
  "kernelspec": {
   "display_name": "Python 3",
   "language": "python",
   "name": "python3"
  },
  "language_info": {
   "codemirror_mode": {
    "name": "ipython",
    "version": 3
   },
   "file_extension": ".py",
   "mimetype": "text/x-python",
   "name": "python",
   "nbconvert_exporter": "python",
   "pygments_lexer": "ipython3",
   "version": "3.7.1"
  }
 },
 "nbformat": 4,
 "nbformat_minor": 2
}
