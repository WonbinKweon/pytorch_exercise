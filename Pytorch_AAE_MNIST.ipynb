{
 "cells": [
  {
   "cell_type": "code",
   "execution_count": 1,
   "metadata": {},
   "outputs": [],
   "source": [
    "import os\n",
    "import torch\n",
    "import torch.nn as nn\n",
    "from torch.autograd import Variable\n",
    "import torchvision.datasets as dset\n",
    "import torchvision.transforms as transforms\n",
    "import torch.nn.functional as F\n",
    "import torch.optim as optim"
   ]
  },
  {
   "cell_type": "markdown",
   "metadata": {},
   "source": [
    "# data prepare"
   ]
  },
  {
   "cell_type": "code",
   "execution_count": 2,
   "metadata": {},
   "outputs": [],
   "source": [
    "use_cuda = torch.cuda.is_available()\n",
    "\n",
    "root = './data'\n",
    "if not os.path.exists(root):\n",
    "    os.mkdir(root)\n",
    "    \n",
    "trans = transforms.Compose([transforms.ToTensor(), transforms.Normalize(mean=(0.5, 0.5, 0.5), std=(0.5, 0.5, 0.5))])\n",
    "# if not exist, download mnist dataset\n",
    "train_set = dset.MNIST(root=root, train=True, transform=trans, download=True)\n",
    "test_set = dset.MNIST(root=root, train=False, transform=trans, download=True)"
   ]
  },
  {
   "cell_type": "code",
   "execution_count": 3,
   "metadata": {},
   "outputs": [
    {
     "name": "stdout",
     "output_type": "stream",
     "text": [
      "==>>> total trainning batch number: 469\n",
      "==>>> total testing batch number: 79\n"
     ]
    }
   ],
   "source": [
    "batch_size = 128\n",
    "\n",
    "train_loader = torch.utils.data.DataLoader(\n",
    "                 dataset=train_set,\n",
    "                 batch_size=batch_size,\n",
    "                 shuffle=True)\n",
    "test_loader = torch.utils.data.DataLoader(\n",
    "                dataset=test_set,\n",
    "                batch_size=batch_size,\n",
    "                shuffle=False)\n",
    "\n",
    "print('==>>> total trainning batch number: {}'.format(len(train_loader)))\n",
    "print('==>>> total testing batch number: {}'.format(len(test_loader)))"
   ]
  },
  {
   "cell_type": "code",
   "execution_count": 4,
   "metadata": {},
   "outputs": [
    {
     "data": {
      "text/plain": [
       "<matplotlib.image.AxesImage at 0x196a037d630>"
      ]
     },
     "execution_count": 4,
     "metadata": {},
     "output_type": "execute_result"
    }
   ],
   "source": [
    "inputs, _ = next(iter(train_loader))\n",
    "img = inputs[4][0]\n",
    "\n",
    "import matplotlib.pyplot as plt\n",
    "plt.imshow(img, cmap='gray', interpolation='nearest')"
   ]
  },
  {
   "cell_type": "markdown",
   "metadata": {},
   "source": [
    "# MODEL"
   ]
  },
  {
   "cell_type": "code",
   "execution_count": 5,
   "metadata": {},
   "outputs": [],
   "source": [
    "class Encoder(nn.Module):\n",
    "\n",
    "    def __init__(self, input_size = 28*28, output_size = 20):\n",
    "        super(Encoder, self).__init__()\n",
    "        self.model = nn.Sequential(\n",
    "            nn.Linear(input_size, 512),\n",
    "            nn.LeakyReLU(0.2, inplace=True),\n",
    "            nn.Linear(512, 512),\n",
    "            nn.BatchNorm1d(512),\n",
    "            nn.LeakyReLU(0.2, inplace=True)\n",
    "        )\n",
    "        self.fc2_1 = nn.Linear(512, output_size)\n",
    "        self.fc2_2 = nn.Linear(512, output_size)\n",
    "        self.input_size = input_size\n",
    "    \n",
    "    def reparameterize(self, mu, var):\n",
    "        std = torch.exp(0.5*var)\n",
    "        eps = torch.randn_like(std)\n",
    "        return mu + eps * std\n",
    "\n",
    "    def forward(self, x):\n",
    "        x = self.model(x.view(-1, self.input_size))\n",
    "        mu = self.fc2_1(x)\n",
    "        var = self.fc2_2(x)\n",
    "        z = self.reparameterize(mu, var)\n",
    "        return z  \n",
    "\n",
    "    \n",
    "class Decoder(nn.Module):\n",
    "\n",
    "    def __init__(self, input_size = 20, output_size = 28*28):\n",
    "        super(Decoder, self).__init__()\n",
    "        self.model = nn.Sequential(\n",
    "            nn.Linear(input_size, 512),\n",
    "            nn.LeakyReLU(0.2, inplace=True),\n",
    "            nn.Linear(512, 512),\n",
    "            nn.BatchNorm1d(512),\n",
    "            nn.LeakyReLU(0.2, inplace=True),\n",
    "            nn.Linear(512, output_size),\n",
    "            nn.Sigmoid()\n",
    "        )\n",
    "    \n",
    "    def forward(self, z):\n",
    "        recon = self.model(z)\n",
    "        return recon\n",
    "\n",
    "    \n",
    "class Discriminator(nn.Module):\n",
    "    def __init__(self, input_size):\n",
    "        super(Discriminator, self).__init__()\n",
    "        self.model = nn.Sequential(\n",
    "            nn.Linear(input_size, 512),\n",
    "            nn.LeakyReLU(0.2, inplace=True),\n",
    "            nn.Linear(512, 256),\n",
    "            nn.LeakyReLU(0.2, inplace=True),\n",
    "            nn.Linear(256, 1),\n",
    "            nn.Sigmoid()\n",
    "        )\n",
    "\n",
    "    def forward(self, z):\n",
    "        return self.model(z)"
   ]
  },
  {
   "cell_type": "markdown",
   "metadata": {},
   "source": [
    "# Training"
   ]
  },
  {
   "cell_type": "code",
   "execution_count": 24,
   "metadata": {},
   "outputs": [],
   "source": [
    "#model parameter\n",
    "latent_dim = 20\n",
    "\n",
    "#training parameter\n",
    "lrate = 0.001\n",
    "epochs = 100\n",
    "\n",
    "#models\n",
    "E = Encoder(28*28, latent_dim)\n",
    "De = Decoder(latent_dim, 28*28)\n",
    "Di = Discriminator(latent_dim)\n",
    "recon = nn.MSELoss()\n",
    "criterion = nn.BCELoss()\n",
    "\n",
    "if use_cuda:\n",
    "    E = E.cuda()\n",
    "    De = De.cuda()\n",
    "    Di = Di.cuda()\n",
    "    criterion = criterion.cuda()\n",
    "    \n",
    "optim_E = optim.Adam(E.parameters(), lr=lrate)\n",
    "optim_De = optim.Adam(De.parameters(), lr=lrate)\n",
    "optim_Di = optim.Adam(Di.parameters(), lr=lrate)"
   ]
  },
  {
   "cell_type": "code",
   "execution_count": 32,
   "metadata": {},
   "outputs": [
    {
     "name": "stdout",
     "output_type": "stream",
     "text": [
      "==>>> epoch: 1, loss_recon: 0.878797\n",
      "==>>> epoch: 1, loss_D: 1.383974\n",
      "==>>> epoch: 1, loss_G: 0.742400\n",
      "==>>> epoch: 2, loss_recon: 0.871885\n",
      "==>>> epoch: 2, loss_D: 1.396563\n",
      "==>>> epoch: 2, loss_G: 0.669667\n",
      "==>>> epoch: 3, loss_recon: 0.881688\n",
      "==>>> epoch: 3, loss_D: 1.370881\n",
      "==>>> epoch: 3, loss_G: 0.650627\n",
      "==>>> epoch: 4, loss_recon: 0.870628\n",
      "==>>> epoch: 4, loss_D: 1.383299\n",
      "==>>> epoch: 4, loss_G: 0.638724\n",
      "==>>> epoch: 5, loss_recon: 0.877731\n",
      "==>>> epoch: 5, loss_D: 1.392958\n",
      "==>>> epoch: 5, loss_G: 0.689351\n",
      "==>>> epoch: 6, loss_recon: 0.879601\n",
      "==>>> epoch: 6, loss_D: 1.366720\n",
      "==>>> epoch: 6, loss_G: 0.708317\n",
      "==>>> epoch: 7, loss_recon: 0.873963\n",
      "==>>> epoch: 7, loss_D: 1.372800\n",
      "==>>> epoch: 7, loss_G: 0.709837\n",
      "==>>> epoch: 8, loss_recon: 0.873883\n",
      "==>>> epoch: 8, loss_D: 1.415189\n",
      "==>>> epoch: 8, loss_G: 0.695010\n",
      "==>>> epoch: 9, loss_recon: 0.872908\n",
      "==>>> epoch: 9, loss_D: 1.381383\n",
      "==>>> epoch: 9, loss_G: 0.639099\n",
      "==>>> epoch: 10, loss_recon: 0.879890\n",
      "==>>> epoch: 10, loss_D: 1.380201\n",
      "==>>> epoch: 10, loss_G: 0.800597\n",
      "==>>> epoch: 11, loss_recon: 0.875107\n",
      "==>>> epoch: 11, loss_D: 1.412316\n",
      "==>>> epoch: 11, loss_G: 0.753096\n",
      "==>>> epoch: 12, loss_recon: 0.869851\n",
      "==>>> epoch: 12, loss_D: 1.365764\n",
      "==>>> epoch: 12, loss_G: 0.617403\n",
      "==>>> epoch: 13, loss_recon: 0.875007\n",
      "==>>> epoch: 13, loss_D: 1.390897\n",
      "==>>> epoch: 13, loss_G: 0.716067\n",
      "==>>> epoch: 14, loss_recon: 0.874943\n",
      "==>>> epoch: 14, loss_D: 1.335439\n",
      "==>>> epoch: 14, loss_G: 0.703394\n",
      "==>>> epoch: 15, loss_recon: 0.875117\n",
      "==>>> epoch: 15, loss_D: 1.400855\n",
      "==>>> epoch: 15, loss_G: 0.754988\n",
      "==>>> epoch: 16, loss_recon: 0.870208\n",
      "==>>> epoch: 16, loss_D: 1.419678\n",
      "==>>> epoch: 16, loss_G: 0.670369\n",
      "==>>> epoch: 17, loss_recon: 0.879823\n",
      "==>>> epoch: 17, loss_D: 1.419624\n",
      "==>>> epoch: 17, loss_G: 0.657496\n",
      "==>>> epoch: 18, loss_recon: 0.877533\n",
      "==>>> epoch: 18, loss_D: 1.415646\n",
      "==>>> epoch: 18, loss_G: 0.700621\n",
      "==>>> epoch: 19, loss_recon: 0.870381\n",
      "==>>> epoch: 19, loss_D: 1.394238\n",
      "==>>> epoch: 19, loss_G: 0.650434\n",
      "==>>> epoch: 20, loss_recon: 0.870794\n",
      "==>>> epoch: 20, loss_D: 1.371425\n",
      "==>>> epoch: 20, loss_G: 0.739277\n",
      "==>>> epoch: 21, loss_recon: 0.875559\n",
      "==>>> epoch: 21, loss_D: 1.392439\n",
      "==>>> epoch: 21, loss_G: 0.689396\n",
      "==>>> epoch: 22, loss_recon: 0.876958\n",
      "==>>> epoch: 22, loss_D: 1.383651\n",
      "==>>> epoch: 22, loss_G: 0.798551\n",
      "==>>> epoch: 23, loss_recon: 0.869587\n",
      "==>>> epoch: 23, loss_D: 1.375033\n",
      "==>>> epoch: 23, loss_G: 0.734842\n",
      "==>>> epoch: 24, loss_recon: 0.880699\n",
      "==>>> epoch: 24, loss_D: 1.357127\n",
      "==>>> epoch: 24, loss_G: 0.682693\n",
      "==>>> epoch: 25, loss_recon: 0.869784\n",
      "==>>> epoch: 25, loss_D: 1.363952\n",
      "==>>> epoch: 25, loss_G: 0.680631\n",
      "==>>> epoch: 26, loss_recon: 0.878448\n",
      "==>>> epoch: 26, loss_D: 1.393846\n",
      "==>>> epoch: 26, loss_G: 0.678751\n",
      "==>>> epoch: 27, loss_recon: 0.871603\n",
      "==>>> epoch: 27, loss_D: 1.369501\n",
      "==>>> epoch: 27, loss_G: 0.694263\n",
      "==>>> epoch: 28, loss_recon: 0.877324\n",
      "==>>> epoch: 28, loss_D: 1.411227\n",
      "==>>> epoch: 28, loss_G: 0.664255\n",
      "==>>> epoch: 29, loss_recon: 0.878071\n",
      "==>>> epoch: 29, loss_D: 1.389038\n",
      "==>>> epoch: 29, loss_G: 0.723706\n",
      "==>>> epoch: 30, loss_recon: 0.876531\n",
      "==>>> epoch: 30, loss_D: 1.390341\n",
      "==>>> epoch: 30, loss_G: 0.758515\n",
      "==>>> epoch: 31, loss_recon: 0.881171\n",
      "==>>> epoch: 31, loss_D: 1.379312\n",
      "==>>> epoch: 31, loss_G: 0.586572\n",
      "==>>> epoch: 32, loss_recon: 0.873651\n",
      "==>>> epoch: 32, loss_D: 1.380188\n",
      "==>>> epoch: 32, loss_G: 0.727213\n",
      "==>>> epoch: 33, loss_recon: 0.879775\n",
      "==>>> epoch: 33, loss_D: 1.396568\n",
      "==>>> epoch: 33, loss_G: 0.715583\n",
      "==>>> epoch: 34, loss_recon: 0.877831\n",
      "==>>> epoch: 34, loss_D: 1.384528\n",
      "==>>> epoch: 34, loss_G: 0.608307\n",
      "==>>> epoch: 35, loss_recon: 0.871145\n",
      "==>>> epoch: 35, loss_D: 1.343607\n",
      "==>>> epoch: 35, loss_G: 0.779068\n",
      "==>>> epoch: 36, loss_recon: 0.874112\n",
      "==>>> epoch: 36, loss_D: 1.398787\n",
      "==>>> epoch: 36, loss_G: 0.716255\n",
      "==>>> epoch: 37, loss_recon: 0.873273\n",
      "==>>> epoch: 37, loss_D: 1.393234\n",
      "==>>> epoch: 37, loss_G: 0.658557\n",
      "==>>> epoch: 38, loss_recon: 0.875922\n",
      "==>>> epoch: 38, loss_D: 1.402130\n",
      "==>>> epoch: 38, loss_G: 0.731856\n",
      "==>>> epoch: 39, loss_recon: 0.874845\n",
      "==>>> epoch: 39, loss_D: 1.396610\n",
      "==>>> epoch: 39, loss_G: 0.758336\n",
      "==>>> epoch: 40, loss_recon: 0.873977\n",
      "==>>> epoch: 40, loss_D: 1.408424\n",
      "==>>> epoch: 40, loss_G: 0.666804\n",
      "==>>> epoch: 41, loss_recon: 0.873628\n",
      "==>>> epoch: 41, loss_D: 1.393243\n",
      "==>>> epoch: 41, loss_G: 0.685599\n",
      "==>>> epoch: 42, loss_recon: 0.879380\n",
      "==>>> epoch: 42, loss_D: 1.398269\n",
      "==>>> epoch: 42, loss_G: 0.710416\n",
      "==>>> epoch: 43, loss_recon: 0.877925\n",
      "==>>> epoch: 43, loss_D: 1.412414\n",
      "==>>> epoch: 43, loss_G: 0.722936\n",
      "==>>> epoch: 44, loss_recon: 0.870521\n",
      "==>>> epoch: 44, loss_D: 1.378932\n",
      "==>>> epoch: 44, loss_G: 0.737962\n",
      "==>>> epoch: 45, loss_recon: 0.884067\n",
      "==>>> epoch: 45, loss_D: 1.370784\n",
      "==>>> epoch: 45, loss_G: 0.691398\n",
      "==>>> epoch: 46, loss_recon: 0.883082\n",
      "==>>> epoch: 46, loss_D: 1.388805\n",
      "==>>> epoch: 46, loss_G: 0.693971\n",
      "==>>> epoch: 47, loss_recon: 0.874622\n",
      "==>>> epoch: 47, loss_D: 1.370315\n",
      "==>>> epoch: 47, loss_G: 0.652570\n",
      "==>>> epoch: 48, loss_recon: 0.878559\n",
      "==>>> epoch: 48, loss_D: 1.383219\n",
      "==>>> epoch: 48, loss_G: 0.776316\n",
      "==>>> epoch: 49, loss_recon: 0.879044\n",
      "==>>> epoch: 49, loss_D: 1.360486\n",
      "==>>> epoch: 49, loss_G: 0.679084\n",
      "==>>> epoch: 50, loss_recon: 0.877133\n",
      "==>>> epoch: 50, loss_D: 1.349882\n",
      "==>>> epoch: 50, loss_G: 0.684783\n",
      "==>>> epoch: 51, loss_recon: 0.875546\n",
      "==>>> epoch: 51, loss_D: 1.389146\n",
      "==>>> epoch: 51, loss_G: 0.730364\n",
      "==>>> epoch: 52, loss_recon: 0.869585\n",
      "==>>> epoch: 52, loss_D: 1.382215\n",
      "==>>> epoch: 52, loss_G: 0.701899\n",
      "==>>> epoch: 53, loss_recon: 0.868803\n",
      "==>>> epoch: 53, loss_D: 1.427426\n",
      "==>>> epoch: 53, loss_G: 0.600122\n",
      "==>>> epoch: 54, loss_recon: 0.870304\n",
      "==>>> epoch: 54, loss_D: 1.393922\n",
      "==>>> epoch: 54, loss_G: 0.677055\n",
      "==>>> epoch: 55, loss_recon: 0.870589\n",
      "==>>> epoch: 55, loss_D: 1.401657\n",
      "==>>> epoch: 55, loss_G: 0.722588\n",
      "==>>> epoch: 56, loss_recon: 0.872207\n",
      "==>>> epoch: 56, loss_D: 1.399063\n",
      "==>>> epoch: 56, loss_G: 0.648915\n",
      "==>>> epoch: 57, loss_recon: 0.872681\n",
      "==>>> epoch: 57, loss_D: 1.375860\n",
      "==>>> epoch: 57, loss_G: 0.646439\n",
      "==>>> epoch: 58, loss_recon: 0.871807\n",
      "==>>> epoch: 58, loss_D: 1.406734\n",
      "==>>> epoch: 58, loss_G: 0.755849\n",
      "==>>> epoch: 59, loss_recon: 0.870235\n",
      "==>>> epoch: 59, loss_D: 1.375590\n",
      "==>>> epoch: 59, loss_G: 0.677679\n",
      "==>>> epoch: 60, loss_recon: 0.880369\n",
      "==>>> epoch: 60, loss_D: 1.423464\n",
      "==>>> epoch: 60, loss_G: 0.669415\n",
      "==>>> epoch: 61, loss_recon: 0.873227\n",
      "==>>> epoch: 61, loss_D: 1.380504\n",
      "==>>> epoch: 61, loss_G: 0.689748\n",
      "==>>> epoch: 62, loss_recon: 0.873507\n",
      "==>>> epoch: 62, loss_D: 1.371330\n",
      "==>>> epoch: 62, loss_G: 0.660299\n",
      "==>>> epoch: 63, loss_recon: 0.877542\n",
      "==>>> epoch: 63, loss_D: 1.391993\n",
      "==>>> epoch: 63, loss_G: 0.630750\n",
      "==>>> epoch: 64, loss_recon: 0.868570\n",
      "==>>> epoch: 64, loss_D: 1.348570\n",
      "==>>> epoch: 64, loss_G: 0.655105\n",
      "==>>> epoch: 65, loss_recon: 0.879226\n",
      "==>>> epoch: 65, loss_D: 1.378108\n",
      "==>>> epoch: 65, loss_G: 0.688284\n",
      "==>>> epoch: 66, loss_recon: 0.872838\n",
      "==>>> epoch: 66, loss_D: 1.357819\n",
      "==>>> epoch: 66, loss_G: 0.715715\n",
      "==>>> epoch: 67, loss_recon: 0.874403\n",
      "==>>> epoch: 67, loss_D: 1.378783\n",
      "==>>> epoch: 67, loss_G: 0.658276\n",
      "==>>> epoch: 68, loss_recon: 0.870434\n",
      "==>>> epoch: 68, loss_D: 1.395025\n",
      "==>>> epoch: 68, loss_G: 0.678834\n",
      "==>>> epoch: 69, loss_recon: 0.878811\n",
      "==>>> epoch: 69, loss_D: 1.376570\n",
      "==>>> epoch: 69, loss_G: 0.774527\n",
      "==>>> epoch: 70, loss_recon: 0.874599\n",
      "==>>> epoch: 70, loss_D: 1.385159\n",
      "==>>> epoch: 70, loss_G: 0.651410\n",
      "==>>> epoch: 71, loss_recon: 0.869692\n",
      "==>>> epoch: 71, loss_D: 1.399531\n",
      "==>>> epoch: 71, loss_G: 0.742398\n",
      "==>>> epoch: 72, loss_recon: 0.868834\n",
      "==>>> epoch: 72, loss_D: 1.387863\n",
      "==>>> epoch: 72, loss_G: 0.656449\n",
      "==>>> epoch: 73, loss_recon: 0.869970\n",
      "==>>> epoch: 73, loss_D: 1.410893\n",
      "==>>> epoch: 73, loss_G: 0.657446\n",
      "==>>> epoch: 74, loss_recon: 0.872768\n",
      "==>>> epoch: 74, loss_D: 1.393767\n",
      "==>>> epoch: 74, loss_G: 0.694911\n",
      "==>>> epoch: 75, loss_recon: 0.864257\n",
      "==>>> epoch: 75, loss_D: 1.381226\n",
      "==>>> epoch: 75, loss_G: 0.675554\n",
      "==>>> epoch: 76, loss_recon: 0.873199\n",
      "==>>> epoch: 76, loss_D: 1.376873\n",
      "==>>> epoch: 76, loss_G: 0.699619\n",
      "==>>> epoch: 77, loss_recon: 0.868095\n",
      "==>>> epoch: 77, loss_D: 1.380122\n",
      "==>>> epoch: 77, loss_G: 0.579058\n",
      "==>>> epoch: 78, loss_recon: 0.872783\n"
     ]
    },
    {
     "name": "stdout",
     "output_type": "stream",
     "text": [
      "==>>> epoch: 78, loss_D: 1.382612\n",
      "==>>> epoch: 78, loss_G: 0.674750\n",
      "==>>> epoch: 79, loss_recon: 0.868738\n",
      "==>>> epoch: 79, loss_D: 1.382632\n",
      "==>>> epoch: 79, loss_G: 0.681827\n",
      "==>>> epoch: 80, loss_recon: 0.869097\n",
      "==>>> epoch: 80, loss_D: 1.377984\n",
      "==>>> epoch: 80, loss_G: 0.678862\n",
      "==>>> epoch: 81, loss_recon: 0.867820\n",
      "==>>> epoch: 81, loss_D: 1.380641\n",
      "==>>> epoch: 81, loss_G: 0.826745\n",
      "==>>> epoch: 82, loss_recon: 0.866285\n",
      "==>>> epoch: 82, loss_D: 1.391109\n",
      "==>>> epoch: 82, loss_G: 0.728385\n",
      "==>>> epoch: 83, loss_recon: 0.874236\n",
      "==>>> epoch: 83, loss_D: 1.384263\n",
      "==>>> epoch: 83, loss_G: 0.703822\n",
      "==>>> epoch: 84, loss_recon: 0.873542\n",
      "==>>> epoch: 84, loss_D: 1.376665\n",
      "==>>> epoch: 84, loss_G: 0.689441\n",
      "==>>> epoch: 85, loss_recon: 0.872152\n",
      "==>>> epoch: 85, loss_D: 1.373987\n",
      "==>>> epoch: 85, loss_G: 0.682735\n",
      "==>>> epoch: 86, loss_recon: 0.872266\n",
      "==>>> epoch: 86, loss_D: 1.377291\n",
      "==>>> epoch: 86, loss_G: 0.723996\n",
      "==>>> epoch: 87, loss_recon: 0.870857\n",
      "==>>> epoch: 87, loss_D: 1.395457\n",
      "==>>> epoch: 87, loss_G: 0.650038\n",
      "==>>> epoch: 88, loss_recon: 0.875675\n",
      "==>>> epoch: 88, loss_D: 1.386765\n",
      "==>>> epoch: 88, loss_G: 0.705617\n",
      "==>>> epoch: 89, loss_recon: 0.866386\n",
      "==>>> epoch: 89, loss_D: 1.384588\n",
      "==>>> epoch: 89, loss_G: 0.694174\n",
      "==>>> epoch: 90, loss_recon: 0.874107\n",
      "==>>> epoch: 90, loss_D: 1.392108\n",
      "==>>> epoch: 90, loss_G: 0.820637\n",
      "==>>> epoch: 91, loss_recon: 0.875882\n",
      "==>>> epoch: 91, loss_D: 1.389698\n",
      "==>>> epoch: 91, loss_G: 0.712449\n",
      "==>>> epoch: 92, loss_recon: 0.879974\n",
      "==>>> epoch: 92, loss_D: 1.382837\n",
      "==>>> epoch: 92, loss_G: 0.717441\n",
      "==>>> epoch: 93, loss_recon: 0.876258\n",
      "==>>> epoch: 93, loss_D: 1.390639\n",
      "==>>> epoch: 93, loss_G: 0.714335\n",
      "==>>> epoch: 94, loss_recon: 0.868020\n",
      "==>>> epoch: 94, loss_D: 1.373616\n",
      "==>>> epoch: 94, loss_G: 0.701044\n",
      "==>>> epoch: 95, loss_recon: 0.871307\n",
      "==>>> epoch: 95, loss_D: 1.369529\n",
      "==>>> epoch: 95, loss_G: 0.677983\n",
      "==>>> epoch: 96, loss_recon: 0.875433\n",
      "==>>> epoch: 96, loss_D: 1.394687\n",
      "==>>> epoch: 96, loss_G: 0.682663\n",
      "==>>> epoch: 97, loss_recon: 0.871803\n",
      "==>>> epoch: 97, loss_D: 1.394708\n",
      "==>>> epoch: 97, loss_G: 0.706829\n",
      "==>>> epoch: 98, loss_recon: 0.873204\n",
      "==>>> epoch: 98, loss_D: 1.402076\n",
      "==>>> epoch: 98, loss_G: 0.722074\n",
      "==>>> epoch: 99, loss_recon: 0.862622\n",
      "==>>> epoch: 99, loss_D: 1.373846\n",
      "==>>> epoch: 99, loss_G: 0.671863\n",
      "===================Finished!=================== \n"
     ]
    }
   ],
   "source": [
    "#training\n",
    "\n",
    "for epoch in range(1, epochs):\n",
    "    for batch_idx, (x, labels) in enumerate(train_loader):\n",
    "        batch_size = x.size()[0]\n",
    "        if use_cuda:\n",
    "            x = x.cuda()\n",
    "            labels = labels.cuda()\n",
    "        \n",
    "        ################## Reconstruction #########################\n",
    "        optim_E.zero_grad()\n",
    "        optim_De.zero_grad()\n",
    "        \n",
    "        z = E(x)\n",
    "        x_recon = De(z)\n",
    "        loss_recon = recon(x_recon, x.view(-1, 784))\n",
    "        loss_recon.backward()\n",
    "        optim_E.step()\n",
    "        optim_De.step()\n",
    "        \n",
    "        ################## Adversarial (regularization) ###########\n",
    "        ####### train Discriminator\n",
    "        optim_Di.zero_grad()\n",
    "        z_real = Variable(torch.randn(batch_size, latent_dim) * 5.)\n",
    "        y_real = Variable(torch.ones(batch_size))\n",
    "        y_fake = Variable(torch.zeros(batch_size))\n",
    "        if use_cuda:\n",
    "            z_real = z_real.cuda()\n",
    "            y_real = y_real.cuda()\n",
    "            y_fake = y_fake.cuda()\n",
    "        \n",
    "        d_real = Di(z_real)\n",
    "        z_fake = E(x)\n",
    "        d_fake = Di(z_fake)\n",
    "        \n",
    "        loss_d_real = criterion(d_real, y_real)\n",
    "        loss_d_fake = criterion(d_fake, y_fake)\n",
    "        loss_d = loss_d_real + loss_d_fake\n",
    "        loss_d.backward()\n",
    "        optim_Di.step()\n",
    "        ####### train Generator (Encoder)\n",
    "        optim_E.zero_grad()\n",
    "        y_real = Variable(torch.ones(batch_size))\n",
    "        if use_cuda:\n",
    "            y_real = y_real.cuda()\n",
    "\n",
    "        z_fake = E(x)\n",
    "        d_fake = Di(z_fake)\n",
    "        \n",
    "        loss_g = criterion(d_fake, y_real)\n",
    "        loss_g.backward()\n",
    "        optim_E.step()\n",
    "        \n",
    "        ####### print error\n",
    "        if ((batch_idx+1) == len(train_loader)):\n",
    "            print('==>>> epoch: {}, loss_recon: {:.6f}'.format(epoch,loss_recon.data))\n",
    "            print('==>>> epoch: {}, loss_D: {:.6f}'.format(epoch,loss_d.data))\n",
    "            print('==>>> epoch: {}, loss_G: {:.6f}'.format(epoch,loss_g.data))\n",
    "\n",
    "print(\"===================Finished!=================== \")"
   ]
  },
  {
   "cell_type": "markdown",
   "metadata": {},
   "source": [
    "# Fake image"
   ]
  },
  {
   "cell_type": "code",
   "execution_count": 33,
   "metadata": {},
   "outputs": [
    {
     "data": {
      "image/png": "[encoded data removed]",
      "text/plain": [
       "<Figure size 432x288 with 1 Axes>"
      ]
     },
     "metadata": {
      "needs_background": "light"
     },
     "output_type": "display_data"
    },
    {
     "data": {
      "image/png": "[encoded data removed]",
      "text/plain": [
       "<Figure size 432x288 with 1 Axes>"
      ]
     },
     "metadata": {
      "needs_background": "light"
     },
     "output_type": "display_data"
    },
    {
     "data": {
      "image/png": "[encoded data removed]",
      "text/plain": [
       "<Figure size 432x288 with 1 Axes>"
      ]
     },
     "metadata": {
      "needs_background": "light"
     },
     "output_type": "display_data"
    },
    {
     "data": {
      "image/png": "[encoded data removed]",
      "text/plain": [
       "<Figure size 432x288 with 1 Axes>"
      ]
     },
     "metadata": {
      "needs_background": "light"
     },
     "output_type": "display_data"
    },
    {
     "data": {
      "image/png": "[encoded data removed]",
      "text/plain": [
       "<Figure size 432x288 with 1 Axes>"
      ]
     },
     "metadata": {
      "needs_background": "light"
     },
     "output_type": "display_data"
    },
    {
     "data": {
      "image/png": "[encoded data removed]",
      "text/plain": [
       "<Figure size 432x288 with 1 Axes>"
      ]
     },
     "metadata": {
      "needs_background": "light"
     },
     "output_type": "display_data"
    },
    {
     "data": {
      "image/png": "[encoded data removed]",
      "text/plain": [
       "<Figure size 432x288 with 1 Axes>"
      ]
     },
     "metadata": {
      "needs_background": "light"
     },
     "output_type": "display_data"
    },
    {
     "data": {
      "image/png": "[encoded data removed]",
      "text/plain": [
       "<Figure size 432x288 with 1 Axes>"
      ]
     },
     "metadata": {
      "needs_background": "light"
     },
     "output_type": "display_data"
    },
    {
     "data": {
      "image/png": "[encoded data removed]",
      "text/plain": [
       "<Figure size 432x288 with 1 Axes>"
      ]
     },
     "metadata": {
      "needs_background": "light"
     },
     "output_type": "display_data"
    }
   ],
   "source": [
    "z = Variable(torch.randn(batch_size, latent_dim) * 5.).cuda()\n",
    "model = De\n",
    "fake_img = model(z)\n",
    "\n",
    "import matplotlib.pyplot as plt\n",
    "for i in range(1, 10):\n",
    "    img = fake_img[i].cpu().detach().numpy()\n",
    "    img = img.reshape(28, 28)\n",
    "    plt.figure()\n",
    "    plt.imshow(img, cmap='gray', interpolation='nearest')"
   ]
  },
  {
   "cell_type": "markdown",
   "metadata": {},
   "source": [
    "# Recon img"
   ]
  },
  {
   "cell_type": "code",
   "execution_count": 34,
   "metadata": {},
   "outputs": [
    {
     "data": {
      "image/png": "[encoded data removed]",
      "text/plain": [
       "<Figure size 432x288 with 1 Axes>"
      ]
     },
     "metadata": {
      "needs_background": "light"
     },
     "output_type": "display_data"
    },
    {
     "data": {
      "image/png": "[encoded data removed]",
      "text/plain": [
       "<Figure size 432x288 with 1 Axes>"
      ]
     },
     "metadata": {
      "needs_background": "light"
     },
     "output_type": "display_data"
    },
    {
     "data": {
      "image/png": "[encoded data removed]",
      "text/plain": [
       "<Figure size 432x288 with 1 Axes>"
      ]
     },
     "metadata": {
      "needs_background": "light"
     },
     "output_type": "display_data"
    },
    {
     "data": {
      "image/png": "[encoded data removed]",
      "text/plain": [
       "<Figure size 432x288 with 1 Axes>"
      ]
     },
     "metadata": {
      "needs_background": "light"
     },
     "output_type": "display_data"
    },
    {
     "data": {
      "image/png": "[encoded data removed]",
      "text/plain": [
       "<Figure size 432x288 with 1 Axes>"
      ]
     },
     "metadata": {
      "needs_background": "light"
     },
     "output_type": "display_data"
    },
    {
     "data": {
      "image/png": "[encoded data removed]",
      "text/plain": [
       "<Figure size 432x288 with 1 Axes>"
      ]
     },
     "metadata": {
      "needs_background": "light"
     },
     "output_type": "display_data"
    },
    {
     "data": {
      "image/png": "[encoded data removed]",
      "text/plain": [
       "<Figure size 432x288 with 1 Axes>"
      ]
     },
     "metadata": {
      "needs_background": "light"
     },
     "output_type": "display_data"
    },
    {
     "data": {
      "image/png": "[encoded data removed]",
      "text/plain": [
       "<Figure size 432x288 with 1 Axes>"
      ]
     },
     "metadata": {
      "needs_background": "light"
     },
     "output_type": "display_data"
    },
    {
     "data": {
      "image/png": "[encoded data removed]",
      "text/plain": [
       "<Figure size 432x288 with 1 Axes>"
      ]
     },
     "metadata": {
      "needs_background": "light"
     },
     "output_type": "display_data"
    }
   ],
   "source": [
    "inputs, _ = next(iter(train_loader))\n",
    "inputs = inputs[0:10].cuda()\n",
    "z = E(inputs)\n",
    "recon_img = De(z)\n",
    "\n",
    "for i in range(1, 10):\n",
    "    img = recon_img[i].cpu().detach().numpy()\n",
    "    img = img.reshape(28, 28)\n",
    "    plt.figure()\n",
    "    plt.imshow(img, cmap='gray', interpolation='nearest')"
   ]
  },
  {
   "cell_type": "code",
   "execution_count": null,
   "metadata": {},
   "outputs": [],
   "source": []
  }
 ],
 "metadata": {
  "kernelspec": {
   "display_name": "Python 3",
   "language": "python",
   "name": "python3"
  },
  "language_info": {
   "codemirror_mode": {
    "name": "ipython",
    "version": 3
   },
   "file_extension": ".py",
   "mimetype": "text/x-python",
   "name": "python",
   "nbconvert_exporter": "python",
   "pygments_lexer": "ipython3",
   "version": "3.7.1"
  }
 },
 "nbformat": 4,
 "nbformat_minor": 2
}
